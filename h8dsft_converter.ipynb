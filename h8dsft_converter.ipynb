{
 "cells": [
  {
   "cell_type": "code",
   "execution_count": 1,
   "metadata": {},
   "outputs": [
    {
     "name": "stdout",
     "output_type": "stream",
     "text": [
      "Konversi Suhu Kelvin ke Celcius\n",
      "Masukan Kelvin: 90\n",
      "hasil dari Konversi Suhu 90.0 k adalah -183.0 C\n"
     ]
    }
   ],
   "source": [
    "# konversi kelvin ke celcius\n",
    "\n",
    "def conv_celcius():\n",
    "    print(\"Konversi Suhu Kelvin ke Celcius\") # Judul atau penjelasan dalam konversi \n",
    "    kelvin = float(input(\"Masukan Kelvin: \")) # Memasukan angka dalam kelvin yang mau di konversi ke celcius\n",
    "    conv_kelvin = kelvin - 273 # Rumus konversi dari klevin ke celcius\n",
    "    print(f'hasil dari Konversi Suhu {kelvin} k adalah {conv_kelvin} C')\n",
    "conv_celcius()  # Untuk memanggil Fungsi \n"
   ]
  },
  {
   "cell_type": "code",
   "execution_count": 11,
   "metadata": {},
   "outputs": [
    {
     "name": "stdout",
     "output_type": "stream",
     "text": [
      "Konversi suhu celcius ke kelvin\n",
      "Masukan Celcius: 100\n",
      "hasil dari konversi suhu 100 C adalah 373 K\n"
     ]
    }
   ],
   "source": [
    "# konversi celcius ke kelvin\n",
    "\n",
    "def conv_kelvin():\n",
    "    print(\"Konversi suhu celcius ke kelvin\")\n",
    "    c = int(input(\"Masukan Celcius: \")) # Memasukan angka dalam celcius yang mau di konversi ke kelvin\n",
    "    conv_c = c + 273 # Rumus konversi dari celcius ke kelvin\n",
    "    print(f'hasil dari konversi suhu {c} C adalah {conv_c} K')\n",
    "conv_kelvin() # Untuk memanggil Fungsi \n",
    "    "
   ]
  },
  {
   "cell_type": "code",
   "execution_count": 16,
   "metadata": {},
   "outputs": [
    {
     "name": "stdout",
     "output_type": "stream",
     "text": [
      "Konversi suhu Celcius ke Farenhait\n",
      "Masukan Celcius : 90\n",
      "Masukan Kelvin : 90\n",
      "hasil dari konversi Suhu 90 C adalah 194.0 F\n",
      "hasil dari konversi suhu 90 K adalah 787.4 F\n"
     ]
    }
   ],
   "source": [
    "# Konversi C/K ke F\n",
    "\n",
    "def conv_F():\n",
    "    print(\"Konversi suhu Celcius/Kelvin ke Farenhait\")\n",
    "    c = int(input(\"Masukan Celcius : \"))\n",
    "    conv_c = 9 * c / 5 + 32\n",
    "    k = int(input(\"Masukan Kelvin : \"))\n",
    "    conv_k = 9 * k-273 / 5 + 32\n",
    "    print(f'hasil dari konversi Suhu {c} C adalah {conv_c} F')\n",
    "    print(f'hasil dari konversi suhu {k} K adalah {conv_k} F')\n",
    "conv_F()"
   ]
  },
  {
   "cell_type": "code",
   "execution_count": 20,
   "metadata": {},
   "outputs": [
    {
     "name": "stdout",
     "output_type": "stream",
     "text": [
      "Konversi suhu Farenhait ke Celcius/Kelvin\n",
      "Masukan Farenhait : 90\n",
      "Masukan Farenhait : 90\n",
      "hasil dari konversi suhu 90 F adalah 32.22222222222222 C\n",
      "hasil dari konversi suhu 90 F adalah 305.22222222222223 K\n"
     ]
    }
   ],
   "source": [
    "# Konversi F ke C/K\n",
    "\n",
    "def conv_f_to_ck():\n",
    "    print(\"Konversi suhu Farenhait ke Celcius/Kelvin\")\n",
    "    fc = int(input(\"Masukan Farenhait : \"))\n",
    "    conv_c = 5 * (fc-32) / 9\n",
    "    fk = int(input(\"Masukan Farenhait : \"))\n",
    "    conv_k = 5 * (fk-32) / 9 + 273\n",
    "    print(f'hasil dari konversi suhu {fc} F adalah {conv_c} C')\n",
    "    print(f'hasil dari konversi suhu {fk} F adalah {conv_k} K')\n",
    "conv_f_to_ck()"
   ]
  },
  {
   "cell_type": "code",
   "execution_count": 3,
   "metadata": {},
   "outputs": [
    {
     "ename": "IndentationError",
     "evalue": "unindent does not match any outer indentation level (<tokenize>, line 7)",
     "output_type": "error",
     "traceback": [
      "\u001b[1;36m  File \u001b[1;32m\"<tokenize>\"\u001b[1;36m, line \u001b[1;32m7\u001b[0m\n\u001b[1;33m    hasil2 = float(5 * (fk-32) / 9 + 273)\u001b[0m\n\u001b[1;37m    ^\u001b[0m\n\u001b[1;31mIndentationError\u001b[0m\u001b[1;31m:\u001b[0m unindent does not match any outer indentation level\n"
     ]
    }
   ],
   "source": [
    "def konversi_F_to_ck(suhu):\n",
    "    drjt = int(suhu[:-1])\n",
    "       inputan = suhu[-1]\n",
    "\n",
    "           if inputan.upper() == \"C\":\n",
    "                 hasil1 = float(5 * (fc-32) / 9)\n",
    "                hasil2 = float(5 * (fk-32) / 9 + 273)\n",
    "                 jenisX = \"Farenhait\"\n",
    "                jenis1 = \"Celcius\"\n",
    "                 jenis2 = \"Kelvin\"\n",
    "                     print(drjt,jenisX,\"=\",\"{:.1f}\".format(hasil1),jenis1)\n",
    "                         print(drjt,jenisX,\"=\",\"{:.1f}\".format(hasil2),jenis2)"
   ]
  }
 ],
 "metadata": {
  "kernelspec": {
   "display_name": "Python 3",
   "language": "python",
   "name": "python3"
  },
  "language_info": {
   "codemirror_mode": {
    "name": "ipython",
    "version": 3
   },
   "file_extension": ".py",
   "mimetype": "text/x-python",
   "name": "python",
   "nbconvert_exporter": "python",
   "pygments_lexer": "ipython3",
   "version": "3.8.5"
  }
 },
 "nbformat": 4,
 "nbformat_minor": 4
}
